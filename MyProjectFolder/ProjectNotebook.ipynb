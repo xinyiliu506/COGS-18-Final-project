{
 "cells": [
  {
   "cell_type": "markdown",
   "metadata": {},
   "source": [
    "# A Weather Chatbot \n",
    "\n",
    "### Project Overview:\n",
    "This chatbot designed to provide current weather data for over 200,000 cities based on the OpenWeather API! It is a simple, friendly bot that could have artificial conversations with people in need of a friend or convenience.\n",
    "\n",
    "In my everyday life, my friends love to ask me about the weather. What's the weather like today becomes a common question we often ask even when we meet on the street. Thus, I wonder if I could create a chatbot that could have a simple conversation with myself or my friends and could answer our question of current weather in different cities on Earth. \n",
    "\n",
    "In this chatbot, users will start with a greeting session. Then, the chatbot will ask if the user wants to know the weather, obtain the city name from the user, and then request weather data of the city by using OpenWheather API. It also enables the user to get information not only about the weather but even temperature, humidity, visibility, or pressure. The chatbot will detect 'yes,' 'ok,' 'yea' as the right object of inputs if users want to know about the weather. If the chatbot could not detect those three synomns for yes, it will automatically end. Then, the user could choose to type in temperature, humidity, visibility, or pressure as one specific input to obtain more weather\n",
    "information. The chatbot will end if it can not detect correct user inputs. Finally, the chatbot will automatically end after it provides one of the above inputs. \n",
    "\n",
    "The following is a big function that pulls everything together and creates the procedure to use all of this code together as a chatbot. In the function.py file, it includes function required for running this chatbot. The function yes_or_no is employed to detect yes or no in user inputs; The function get_weather_data is used to request weather data from OpenWeather API; The function get_more_info functions to provide more information of whether to user according to user inputs.\n",
    "\n",
    "Note: \n",
    "* units for temperature is kelvin\n",
    "* units for pressure is hPa\n",
    "* units for humidity is %\n",
    "* units for visibility is meter\n",
    "* Please keep in mind, user input 'I am not ok' will still be recognized as ok, due to the limitation of chatbot of token anaysis. "
   ]
  },
  {
   "cell_type": "markdown",
   "metadata": {},
   "source": [
    "### Set up\n",
    "#### Code Imports\n",
    "\n",
    "We must run the following cell before proceeding with chatbot. "
   ]
  },
  {
   "cell_type": "code",
   "execution_count": 1,
   "metadata": {},
   "outputs": [],
   "source": [
    "# Importing required modules, making it available for chatbot to use later\n",
    "import string\n",
    "import random\n",
    "import string\n",
    "import json\n",
    "import requests\n",
    "import numpy as np\n",
    "from my_module.functions import *"
   ]
  },
  {
   "cell_type": "markdown",
   "metadata": {},
   "source": [
    "## Part I: Function "
   ]
  },
  {
   "cell_type": "code",
   "execution_count": 2,
   "metadata": {},
   "outputs": [],
   "source": [
    "def have_a_chat():\n",
    "    \"\"\"Main function to run our chatbot.\"\"\"\n",
    "    \n",
    "    chat = True\n",
    "    while chat:\n",
    "        \n",
    "        # Obtain the username\n",
    "        user_name = input('Good Afternoon! What is your name?\\t')\n",
    "        \n",
    "        # Output greetings our chatbot can say and respond to user\n",
    "        Greeting1 = '\\nHello!,I am glad you are talking to me!'\n",
    "        Greeting2 = '\\nHey, Nice to meet you!'\n",
    "        Greeting_outputs = (Greeting1, Greeting2)\n",
    "        print(random.choice(Greeting_outputs), user_name)\n",
    "                            \n",
    "        # Question if user want to know the topic that we have defined to respond to\n",
    "        weather_or_not = input('\\nDo you want to know what is the wheather like?\\t')\n",
    "        \n",
    "        # Check the input message whether the user wants to know the weather\n",
    "        weather_or_not = yes_or_no(weather_or_not)\n",
    "        \n",
    "        # If user does not want to know the weather\n",
    "        # End the chat with our chatbot\n",
    "        if weather_or_not == False:\n",
    "            print('\\nBye,',user_name,'! Hope I can help you next time.')\n",
    "            break\n",
    "             \n",
    "        # Get the city name from user  \n",
    "        city = input('\\nPlease provide the city name:\\t')\n",
    "        \n",
    "        # Employ the function get_weather_data\n",
    "        # To request weather data of the city by using OpenWheather API\n",
    "        weather_data,stay = get_weather_data(city)\n",
    "        \n",
    "        # If weatherdata does not avalible in API, to end the chatbot\n",
    "        if not stay:\n",
    "            return \n",
    "        \n",
    "        # Chatbot continues to ask users \n",
    "        # if they need more information about weather data of the city\n",
    "        info_or_not = input('\\nDo you need more weather data of the city?\\t')\n",
    "        \n",
    "        # Check the input message whether the user wants to know more or not\n",
    "        info_or_not = yes_or_no(info_or_not)\n",
    "        \n",
    "        # If user does not want to know the weather\n",
    "        # End the chat with our chatbot\n",
    "        if info_or_not == False:\n",
    "            print('\\nBye,',user_name,'! Hope I can help you next time.')\n",
    "            break\n",
    "        \n",
    "        # Input choices of weather data our chatbot can respond to\n",
    "        string1 = '\\nYou are able to type in one of the following inputs: '\n",
    "        info_choices = 'temperature, humidity, pressure, or visibility:\\t'\n",
    "        user_inputs = input(string1 + info_choices)\n",
    "        \n",
    "        # Use function get_more_info\n",
    "        # Detect user inputs and print and print weather data from OpenWeather API\n",
    "        get_more_info(weather_data, user_inputs)\n",
    "        \n",
    "        #To end the chat \n",
    "        chat = False\n",
    "        print('\\nBye,',user_name,'! I am glad to talk to you!')\n",
    "        "
   ]
  },
  {
   "cell_type": "markdown",
   "metadata": {},
   "source": [
    "## Part II: Taking to our Weather chatbot\n",
    "\n",
    "To talk to the chatbot, uncomment and run the following cell\n"
   ]
  },
  {
   "cell_type": "code",
   "execution_count": 3,
   "metadata": {},
   "outputs": [
    {
     "name": "stdout",
     "output_type": "stream",
     "text": [
      "Good Afternoon! What is your name?\tlinda\n",
      "\n",
      "Hello!,I am glad you are talking to me! linda\n",
      "\n",
      "Do you want to know what is the wheather like?\tYes\n",
      "\n",
      "Please provide the city name:\tLa Jolla\n",
      "Clear\n",
      "\n",
      "Do you need more weather data of the city?\tYes\n",
      "\n",
      "You are able to type in one of the following inputs: temperature, humidity, pressure, or visibility:\ttemperature\n",
      "285.31\n",
      "\n",
      "Bye, linda ! I am glad to talk to you!\n"
     ]
    }
   ],
   "source": [
    "have_a_chat()"
   ]
  },
  {
   "cell_type": "markdown",
   "metadata": {},
   "source": [
    "# The End of Chatbot\n",
    "\n",
    "\n",
    "### Project Approach:\n",
    "In this course, I have learned how to build my first python chatbot and my first programming language project. The first challenging is to structure the outline of the project. I worked hard to examine the goal of my project and research on the process to achieve it. Then, I carefully read and tried to understand information in course assignments A3 and A4. I wanted my project to expand on the course project.\n",
    "\n",
    "I decided to start my chatbot with greetings conversation between bot and human inputs. I spend a lot of time trying to make my chatbot has polite manners by using courteous welcome from the beginning, graceful middle, and proper ending of the conversation. The second challenging is to create a function that could detect 'yes' or 'no' in the input of user response apply lower method. I have to create a function that can lower remove the string punctuation by replacing method and split method altogether, and then return to a boolean. Ture if the answer is yes and the conversation continues; False if the answer is no and the chat ends. In our class project, we apply split and lower methods together in a function that helps to prepare the text inputs for processing. I have difficulties putting them together in my function.py file. I always a lot of small mistakes, and debugging helping me a lot to figure out the final solution. In class, doing our assignments, I always follow the instruction from the professor. Now, I feel proud of myself to write an extended function that combines different methods and could conduct things I want to do.\n",
    "\n",
    "The other main challenging for me is to learn how to integrate API in my chatbot. Instead of using web-scraping, I think API is more stateful than web-scraping when my project was trying to fetching weather data for the user. I learned to search a database to get weather data I want it to return. I eventually find OpenWeather API, which has a large dataset that includes weather data over 200,000 cities around the world. The next challenging step for me is to learn to fetch the data from the API. I learn to set up the information i need for having a fetch request and build a complete URL. Then, i learned to find my unique API key. Because my data is available in JSON format, I later learned how to convert JSON format into python-format data that we did not cover in class. I appreciate IA's help and course material that we covered in class to help me achieve this integration. I leanred that python supports json natively. We can import json to encode or decode the json data. I think it is very cool. I start to love those different features of python. \n",
    "\n",
    "Following the guideline from Professor Ellis, I have a look back over my answers, and also make sure to Restart & Run All from the kernel menu to double-check that everything is working correctly and all of my asserts pass silently. \n",
    "\n",
    "I am new to programming language, but I learned a lot in this class and this project. I appreciate I could have this chance to finish such a grateful but straightforward project. \n",
    "\n",
    "\n",
    "### Extending the project \n",
    "\n",
    "Although it is a very straightforward project, I try my best to make it perfect as I can in a limited time. If I could have more time on this project, I would like to add more features to my project. I want my chatbot to detect human inputs like 'I do not want to know the weather'. When this sentence breaks into sequences of tokens as separate words by the computer: “I”+”do’’+ ''no''+ ’’want’’+”to”+ ''know'' + ''the''+ ''weather''. Now, it is challenging for me to write a function that the computer can able to identify \"not fine\" is a phrase that has to be put together or a complex sentence with a sarcastic tone. My chatbot now only can read those words separately and recognize the 'yes,' 'ok,' and 'yea' as the right user I input to continue the conversation and provide weather data output. Also, one another limitation of my chatbot is when \n",
    "\n",
    "Despite the problem with token analysis in the chatbot, I also would like to enable the user to search for current weather, temperature, humidity by using zip-code and geographic coordinates. I want the chatbot has flexibility. \n",
    "\n",
    "I only used one API in my project. Hopefully, I could have more coding skills to integrate muti-API in my chatbot, I want the weather data from different API to compare to each other, and then chatbot will have the ability to choose the most frequent weather data as the output. I want the weather to be as accurate as it can. \n",
    "\n",
    "\n",
    "### Project Reference\n",
    "\n",
    "* All course materials from COGS 18\n",
    "* All course codes from COGS 18\n",
    "* Special Thanks to Professor Shannon Ellis \n",
    "* Credit to IA Duolan Ouyang \n",
    "* Credit to TAs who helped with my project\n",
    "* OpenWeather API (https://openweathermap.org/api)\n",
    "* Numpy documentation sample (https://numpydoc.readthedocs.io/en/latest/format.html)\n",
    "* Python Tutorials (https://realpython.com/)\n",
    "\n",
    "### Link to Github \n",
    "* https://github.com/xinyiliu506/COGS-18-Final-project"
   ]
  }
 ],
 "metadata": {
  "kernelspec": {
   "display_name": "Python 3",
   "language": "python",
   "name": "python3"
  },
  "language_info": {
   "codemirror_mode": {
    "name": "ipython",
    "version": 3
   },
   "file_extension": ".py",
   "mimetype": "text/x-python",
   "name": "python",
   "nbconvert_exporter": "python",
   "pygments_lexer": "ipython3",
   "version": "3.6.7"
  }
 },
 "nbformat": 4,
 "nbformat_minor": 2
}
